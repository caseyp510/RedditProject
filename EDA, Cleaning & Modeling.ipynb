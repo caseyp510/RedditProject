{
 "cells": [
  {
   "cell_type": "markdown",
   "metadata": {},
   "source": [
    "## Project 3: Subreddit Classification"
   ]
  },
  {
   "cell_type": "markdown",
   "metadata": {},
   "source": [
    "### Contents"
   ]
  },
  {
   "cell_type": "markdown",
   "metadata": {},
   "source": [
    "- [Probelem Scenario](#Problem-Scenario)\n",
    "- [Executive Summary](#Executive-Summary)\n",
    "- [Imports](#Imports)\n",
    "- [The Data](#The-Data)\n",
    "- [Preliminary EDA](#Preliminary-EDA)\n",
    "- [Cleaning](#More-EDA-&-Cleaning)\n",
    "- [Pre-processing](#Setting-up-our-data-for-modeling)\n",
    "- [Modeling](#MODELING)\n",
    "- [Evaluation](#Evaluation)\n",
    "- [Conclusions](#Conclusions-&-Next-steps)\n",
    "\n",
    "Note: Data Collection can be found in first notebook (title: Data Collection"
   ]
  },
  {
   "cell_type": "raw",
   "metadata": {},
   "source": [
    "### Problem Scenario\n",
    "\n",
    "As an intern Data Scientist for Reddit, my first task is to help make create suggestions to one of the largest subreddits on reddit, r/gaming. r/gaming is currently at 3,100,154 members and it's getting kinda wild in here. Some members want to discuss Pokemon, while others want to discuss NBA 2k. Other members want to discuss Fortnite, Overwatch and Minecraft. Some members are just down right rude, leaving comments on posts of games they don't like and creating chaos among the group. Let's help calm things down.\n",
    "\n",
    "It could be helpful if we could create a system that could suggest other smaller or more specific forums to r/gaming members based on the language that they are currently in the forum. As a smaller part of a bigger issue, let's start by testing a model on two of our top gaming communities on Reddit, r/FORTnITE (400k members) and r/Minecraft (2.5m members). I have been assigned to begin this project by creating a classification model that can distinguish which of two subreddits a post belongs.  Once we are able to determine that our model can most accurately distinguish between the two I'll consult my boss and we can figure out next steps to suggestions."
   ]
  },
  {
   "cell_type": "markdown",
   "metadata": {},
   "source": [
    "### Executive Summary"
   ]
  },
  {
   "cell_type": "markdown",
   "metadata": {},
   "source": [
    "The data in this project was acquired using Reddit's API to pull relevant data from both r/FORTnITE and r/Minecraft subreddits. 1000 posts were pulled from both subreddits which totalled 2000 posts exactly. The we extracted 'title' and 'subtext' from the raw data. This is the information that we wanted to analyze with our model. After reviewing,  the data in those features, it was decided that we would keep the title feature as it contained full information/title in each row with no missing/null values.\n",
    "\n",
    "Next, a new column was created and labeled either 1 or 0. 1 was the label for the Fortnite subreddit and 0 was the label for the Minecraft subreddit. Both subreddits were then joined together to form a full dataframe and saved to a csv as preperation for EDA and cleaning.\n",
    "\n",
    "The Cleaning process includes transforming the data to lowercase, remove punctuation, tokenizing, examining data using both lemmatizing and stemming, ultimately choosing lemmatizing, removing stop words, and then saving the updated information to an updated csv to prepare for modeling.\n",
    "\n",
    "I used 5 different models on the data: Logistic Regression with Countvectorizer, Logistic Regression with TFIDF, Naive Bayes - Multinomial with Countvectorizer, Naive Bayes - Gaussian with TFIDF, and Decision Tree Classifier - TFIDF Vectorizer. A grid search was performed on all models except Multinomial and Gaussian.\n",
    "\n",
    "The best model was Naive Bayes - Multinomial with Countvectorize."
   ]
  },
  {
   "cell_type": "markdown",
   "metadata": {},
   "source": [
    "### Imports"
   ]
  },
  {
   "cell_type": "code",
   "execution_count": 93,
   "metadata": {},
   "outputs": [],
   "source": [
    "#potential needed imports\n",
    "\n",
    "import pandas as pd\n",
    "import numpy as np\n",
    "import matplotlib.pyplot as plt\n",
    "import seaborn as sns\n",
    "\n",
    "%matplotlib inline\n",
    "\n",
    "from sklearn.model_selection import cross_val_score\n",
    "from sklearn.model_selection import train_test_split, GridSearchCV\n",
    "from sklearn.pipeline import Pipeline\n",
    "from sklearn.linear_model import LogisticRegression\n",
    "from sklearn.model_selection import KFold\n",
    "from sklearn.preprocessing import StandardScaler\n",
    "from sklearn.neighbors import KNeighborsClassifier\n",
    "\n",
    "from sklearn.metrics import confusion_matrix, classification_report\n",
    "from sklearn.feature_extraction.text import CountVectorizer, TfidfVectorizer\n",
    "from sklearn.feature_extraction import stop_words\n",
    "from sklearn.naive_bayes import MultinomialNB, GaussianNB, BernoulliNB\n",
    "from sklearn.ensemble import GradientBoostingClassifier, AdaBoostClassifier, VotingClassifier\n",
    "\n",
    "import nltk\n",
    "from scipy.sparse import csr_matrix, issparse\n",
    "from nltk.corpus import stopwords\n",
    "from nltk.stem import WordNetLemmatizer\n",
    "from nltk.tokenize import RegexpTokenizer\n",
    "from nltk.stem.snowball import SnowballStemmer\n",
    "from nltk.stem import PorterStemmer\n",
    "from collections import Counter "
   ]
  },
  {
   "cell_type": "markdown",
   "metadata": {},
   "source": [
    "### The Data"
   ]
  },
  {
   "cell_type": "code",
   "execution_count": 94,
   "metadata": {},
   "outputs": [
    {
     "data": {
      "text/html": [
       "<div>\n",
       "<style scoped>\n",
       "    .dataframe tbody tr th:only-of-type {\n",
       "        vertical-align: middle;\n",
       "    }\n",
       "\n",
       "    .dataframe tbody tr th {\n",
       "        vertical-align: top;\n",
       "    }\n",
       "\n",
       "    .dataframe thead th {\n",
       "        text-align: right;\n",
       "    }\n",
       "</style>\n",
       "<table border=\"1\" class=\"dataframe\">\n",
       "  <thead>\n",
       "    <tr style=\"text-align: right;\">\n",
       "      <th></th>\n",
       "      <th>title</th>\n",
       "      <th>label</th>\n",
       "    </tr>\n",
       "  </thead>\n",
       "  <tbody>\n",
       "    <tr>\n",
       "      <th>0</th>\n",
       "      <td>Wow. 20 Gold. I am so happy.</td>\n",
       "      <td>1</td>\n",
       "    </tr>\n",
       "    <tr>\n",
       "      <th>1</th>\n",
       "      <td>Missions Open lobby number count per missions ...</td>\n",
       "      <td>1</td>\n",
       "    </tr>\n",
       "    <tr>\n",
       "      <th>2</th>\n",
       "      <td>My new makeshift girlfriend in stw</td>\n",
       "      <td>1</td>\n",
       "    </tr>\n",
       "    <tr>\n",
       "      <th>3</th>\n",
       "      <td>Seeing as Gas traps changed should I reset my ...</td>\n",
       "      <td>1</td>\n",
       "    </tr>\n",
       "    <tr>\n",
       "      <th>4</th>\n",
       "      <td>Brainstorm Session: New Abilities</td>\n",
       "      <td>1</td>\n",
       "    </tr>\n",
       "  </tbody>\n",
       "</table>\n",
       "</div>"
      ],
      "text/plain": [
       "                                               title  label\n",
       "0                       Wow. 20 Gold. I am so happy.      1\n",
       "1  Missions Open lobby number count per missions ...      1\n",
       "2                 My new makeshift girlfriend in stw      1\n",
       "3  Seeing as Gas traps changed should I reset my ...      1\n",
       "4                  Brainstorm Session: New Abilities      1"
      ]
     },
     "execution_count": 94,
     "metadata": {},
     "output_type": "execute_result"
    }
   ],
   "source": [
    "#reading the csv\n",
    "df = pd.read_csv('./reddit.csv')\n",
    "#checking out the first 5 rows\n",
    "df.head()"
   ]
  },
  {
   "cell_type": "code",
   "execution_count": 95,
   "metadata": {},
   "outputs": [
    {
     "data": {
      "text/html": [
       "<div>\n",
       "<style scoped>\n",
       "    .dataframe tbody tr th:only-of-type {\n",
       "        vertical-align: middle;\n",
       "    }\n",
       "\n",
       "    .dataframe tbody tr th {\n",
       "        vertical-align: top;\n",
       "    }\n",
       "\n",
       "    .dataframe thead th {\n",
       "        text-align: right;\n",
       "    }\n",
       "</style>\n",
       "<table border=\"1\" class=\"dataframe\">\n",
       "  <thead>\n",
       "    <tr style=\"text-align: right;\">\n",
       "      <th></th>\n",
       "      <th>title</th>\n",
       "      <th>label</th>\n",
       "    </tr>\n",
       "  </thead>\n",
       "  <tbody>\n",
       "    <tr>\n",
       "      <th>1208</th>\n",
       "      <td>What even is that?</td>\n",
       "      <td>0</td>\n",
       "    </tr>\n",
       "    <tr>\n",
       "      <th>901</th>\n",
       "      <td>Best weapon for every catagory</td>\n",
       "      <td>1</td>\n",
       "    </tr>\n",
       "    <tr>\n",
       "      <th>68</th>\n",
       "      <td>hoping that season 11 will actually give us co...</td>\n",
       "      <td>1</td>\n",
       "    </tr>\n",
       "    <tr>\n",
       "      <th>272</th>\n",
       "      <td>Please bring back the old transition animation...</td>\n",
       "      <td>1</td>\n",
       "    </tr>\n",
       "    <tr>\n",
       "      <th>1990</th>\n",
       "      <td>thingy i made</td>\n",
       "      <td>0</td>\n",
       "    </tr>\n",
       "    <tr>\n",
       "      <th>1968</th>\n",
       "      <td>New family member!</td>\n",
       "      <td>0</td>\n",
       "    </tr>\n",
       "    <tr>\n",
       "      <th>1490</th>\n",
       "      <td>I found ... and that's it</td>\n",
       "      <td>0</td>\n",
       "    </tr>\n",
       "    <tr>\n",
       "      <th>1563</th>\n",
       "      <td>[Windows] Visual glitch when opening. Launcher...</td>\n",
       "      <td>0</td>\n",
       "    </tr>\n",
       "    <tr>\n",
       "      <th>954</th>\n",
       "      <td>Ninja party</td>\n",
       "      <td>1</td>\n",
       "    </tr>\n",
       "    <tr>\n",
       "      <th>10</th>\n",
       "      <td>It's High Noon. A crazy strong and powerful Qu...</td>\n",
       "      <td>1</td>\n",
       "    </tr>\n",
       "    <tr>\n",
       "      <th>1684</th>\n",
       "      <td>Me and my mates tower that we built on a creat...</td>\n",
       "      <td>0</td>\n",
       "    </tr>\n",
       "    <tr>\n",
       "      <th>1432</th>\n",
       "      <td>My colloseum im building in my realm. Just fin...</td>\n",
       "      <td>0</td>\n",
       "    </tr>\n",
       "    <tr>\n",
       "      <th>1026</th>\n",
       "      <td>Come on man, I just want the looting 3 enchant...</td>\n",
       "      <td>0</td>\n",
       "    </tr>\n",
       "    <tr>\n",
       "      <th>1255</th>\n",
       "      <td>This is me and my brothers world (sorry for ba...</td>\n",
       "      <td>0</td>\n",
       "    </tr>\n",
       "    <tr>\n",
       "      <th>152</th>\n",
       "      <td>New update, new bug</td>\n",
       "      <td>1</td>\n",
       "    </tr>\n",
       "    <tr>\n",
       "      <th>1394</th>\n",
       "      <td>Quary I'm digging in my first serious survival...</td>\n",
       "      <td>0</td>\n",
       "    </tr>\n",
       "    <tr>\n",
       "      <th>1379</th>\n",
       "      <td>First time seeing this occur naturally</td>\n",
       "      <td>0</td>\n",
       "    </tr>\n",
       "    <tr>\n",
       "      <th>1356</th>\n",
       "      <td>I finally have them all!</td>\n",
       "      <td>0</td>\n",
       "    </tr>\n",
       "    <tr>\n",
       "      <th>1974</th>\n",
       "      <td>How do I improve?</td>\n",
       "      <td>0</td>\n",
       "    </tr>\n",
       "    <tr>\n",
       "      <th>63</th>\n",
       "      <td>Ya Some what helps</td>\n",
       "      <td>1</td>\n",
       "    </tr>\n",
       "  </tbody>\n",
       "</table>\n",
       "</div>"
      ],
      "text/plain": [
       "                                                  title  label\n",
       "1208                                 What even is that?      0\n",
       "901                      Best weapon for every catagory      1\n",
       "68    hoping that season 11 will actually give us co...      1\n",
       "272   Please bring back the old transition animation...      1\n",
       "1990                                      thingy i made      0\n",
       "1968                                 New family member!      0\n",
       "1490                          I found ... and that's it      0\n",
       "1563  [Windows] Visual glitch when opening. Launcher...      0\n",
       "954                                         Ninja party      1\n",
       "10    It's High Noon. A crazy strong and powerful Qu...      1\n",
       "1684  Me and my mates tower that we built on a creat...      0\n",
       "1432  My colloseum im building in my realm. Just fin...      0\n",
       "1026  Come on man, I just want the looting 3 enchant...      0\n",
       "1255  This is me and my brothers world (sorry for ba...      0\n",
       "152                                 New update, new bug      1\n",
       "1394  Quary I'm digging in my first serious survival...      0\n",
       "1379             First time seeing this occur naturally      0\n",
       "1356                           I finally have them all!      0\n",
       "1974                                  How do I improve?      0\n",
       "63                                   Ya Some what helps      1"
      ]
     },
     "execution_count": 95,
     "metadata": {},
     "output_type": "execute_result"
    }
   ],
   "source": [
    "#checking out a sample of 10 posts to make sure the labels are correct in the df\n",
    "df.sample(20)"
   ]
  },
  {
   "cell_type": "markdown",
   "metadata": {},
   "source": [
    "### Preliminary EDA"
   ]
  },
  {
   "cell_type": "code",
   "execution_count": 96,
   "metadata": {},
   "outputs": [
    {
     "data": {
      "text/plain": [
       "(2000, 2)"
      ]
     },
     "execution_count": 96,
     "metadata": {},
     "output_type": "execute_result"
    }
   ],
   "source": [
    "#shape\n",
    "df.shape"
   ]
  },
  {
   "cell_type": "code",
   "execution_count": 97,
   "metadata": {},
   "outputs": [
    {
     "data": {
      "text/plain": [
       "title    object\n",
       "label     int64\n",
       "dtype: object"
      ]
     },
     "execution_count": 97,
     "metadata": {},
     "output_type": "execute_result"
    }
   ],
   "source": [
    "df.dtypes"
   ]
  },
  {
   "cell_type": "code",
   "execution_count": 98,
   "metadata": {},
   "outputs": [
    {
     "data": {
      "text/plain": [
       "0"
      ]
     },
     "execution_count": 98,
     "metadata": {},
     "output_type": "execute_result"
    }
   ],
   "source": [
    "#no nulls\n",
    "df.isnull().sum().sum()"
   ]
  },
  {
   "cell_type": "code",
   "execution_count": 99,
   "metadata": {},
   "outputs": [],
   "source": [
    "#lets set up our data for modeling\n",
    "X = df['title']\n",
    "y = df['label']"
   ]
  },
  {
   "cell_type": "code",
   "execution_count": 100,
   "metadata": {},
   "outputs": [
    {
     "data": {
      "text/plain": [
       "1    1000\n",
       "0    1000\n",
       "Name: label, dtype: int64"
      ]
     },
     "execution_count": 100,
     "metadata": {},
     "output_type": "execute_result"
    }
   ],
   "source": [
    "#equal amount of values for each labels\n",
    "y.value_counts()"
   ]
  },
  {
   "cell_type": "code",
   "execution_count": 101,
   "metadata": {},
   "outputs": [
    {
     "data": {
      "text/plain": [
       "1    0.5\n",
       "0    0.5\n",
       "Name: label, dtype: float64"
      ]
     },
     "execution_count": 101,
     "metadata": {},
     "output_type": "execute_result"
    }
   ],
   "source": [
    "#baseline 50%\n",
    "y.value_counts(normalize=True)"
   ]
  },
  {
   "cell_type": "markdown",
   "metadata": {},
   "source": [
    "### More EDA & Cleaning"
   ]
  },
  {
   "cell_type": "markdown",
   "metadata": {},
   "source": [
    "In this section, the focus is on changing the data so that it suits our model best. We will explore tokenizing, stemming, lemmatizing and removing stop words."
   ]
  },
  {
   "cell_type": "code",
   "execution_count": 102,
   "metadata": {},
   "outputs": [],
   "source": [
    "#making all letters lowercase\n",
    "df['title'] = df['title'].str.lower()"
   ]
  },
  {
   "cell_type": "code",
   "execution_count": 103,
   "metadata": {},
   "outputs": [
    {
     "data": {
      "text/html": [
       "<div>\n",
       "<style scoped>\n",
       "    .dataframe tbody tr th:only-of-type {\n",
       "        vertical-align: middle;\n",
       "    }\n",
       "\n",
       "    .dataframe tbody tr th {\n",
       "        vertical-align: top;\n",
       "    }\n",
       "\n",
       "    .dataframe thead th {\n",
       "        text-align: right;\n",
       "    }\n",
       "</style>\n",
       "<table border=\"1\" class=\"dataframe\">\n",
       "  <thead>\n",
       "    <tr style=\"text-align: right;\">\n",
       "      <th></th>\n",
       "      <th>title</th>\n",
       "      <th>label</th>\n",
       "    </tr>\n",
       "  </thead>\n",
       "  <tbody>\n",
       "    <tr>\n",
       "      <th>0</th>\n",
       "      <td>wow. 20 gold. i am so happy.</td>\n",
       "      <td>1</td>\n",
       "    </tr>\n",
       "    <tr>\n",
       "      <th>1</th>\n",
       "      <td>missions open lobby number count per missions ...</td>\n",
       "      <td>1</td>\n",
       "    </tr>\n",
       "    <tr>\n",
       "      <th>2</th>\n",
       "      <td>my new makeshift girlfriend in stw</td>\n",
       "      <td>1</td>\n",
       "    </tr>\n",
       "    <tr>\n",
       "      <th>3</th>\n",
       "      <td>seeing as gas traps changed should i reset my ...</td>\n",
       "      <td>1</td>\n",
       "    </tr>\n",
       "    <tr>\n",
       "      <th>4</th>\n",
       "      <td>brainstorm session: new abilities</td>\n",
       "      <td>1</td>\n",
       "    </tr>\n",
       "    <tr>\n",
       "      <th>...</th>\n",
       "      <td>...</td>\n",
       "      <td>...</td>\n",
       "    </tr>\n",
       "    <tr>\n",
       "      <th>1995</th>\n",
       "      <td>odd zombie villager texturing</td>\n",
       "      <td>0</td>\n",
       "    </tr>\n",
       "    <tr>\n",
       "      <th>1996</th>\n",
       "      <td>my underground village is still very young but...</td>\n",
       "      <td>0</td>\n",
       "    </tr>\n",
       "    <tr>\n",
       "      <th>1997</th>\n",
       "      <td>a render of a map i made.</td>\n",
       "      <td>0</td>\n",
       "    </tr>\n",
       "    <tr>\n",
       "      <th>1998</th>\n",
       "      <td>i found a village halfway into a swamp!</td>\n",
       "      <td>0</td>\n",
       "    </tr>\n",
       "    <tr>\n",
       "      <th>1999</th>\n",
       "      <td>a small bridge i built</td>\n",
       "      <td>0</td>\n",
       "    </tr>\n",
       "  </tbody>\n",
       "</table>\n",
       "<p>2000 rows × 2 columns</p>\n",
       "</div>"
      ],
      "text/plain": [
       "                                                  title  label\n",
       "0                          wow. 20 gold. i am so happy.      1\n",
       "1     missions open lobby number count per missions ...      1\n",
       "2                    my new makeshift girlfriend in stw      1\n",
       "3     seeing as gas traps changed should i reset my ...      1\n",
       "4                     brainstorm session: new abilities      1\n",
       "...                                                 ...    ...\n",
       "1995                      odd zombie villager texturing      0\n",
       "1996  my underground village is still very young but...      0\n",
       "1997                          a render of a map i made.      0\n",
       "1998            i found a village halfway into a swamp!      0\n",
       "1999                             a small bridge i built      0\n",
       "\n",
       "[2000 rows x 2 columns]"
      ]
     },
     "execution_count": 103,
     "metadata": {},
     "output_type": "execute_result"
    }
   ],
   "source": [
    "#checking to confirm data has been converted\n",
    "df"
   ]
  },
  {
   "cell_type": "code",
   "execution_count": 104,
   "metadata": {},
   "outputs": [
    {
     "name": "stdout",
     "output_type": "stream",
     "text": [
      "['wow', '.', '20', 'gold', '.', 'i', 'am', 'so', 'happy', '.']\n"
     ]
    }
   ],
   "source": [
    "#tokenizing example - I want to tokenize all words in df ( split the post text into individual words ).\n",
    "example_post = df.loc[0]\n",
    "print (nltk.word_tokenize(example_post['title']))"
   ]
  },
  {
   "cell_type": "code",
   "execution_count": 105,
   "metadata": {},
   "outputs": [
    {
     "data": {
      "text/html": [
       "<div>\n",
       "<style scoped>\n",
       "    .dataframe tbody tr th:only-of-type {\n",
       "        vertical-align: middle;\n",
       "    }\n",
       "\n",
       "    .dataframe tbody tr th {\n",
       "        vertical-align: top;\n",
       "    }\n",
       "\n",
       "    .dataframe thead th {\n",
       "        text-align: right;\n",
       "    }\n",
       "</style>\n",
       "<table border=\"1\" class=\"dataframe\">\n",
       "  <thead>\n",
       "    <tr style=\"text-align: right;\">\n",
       "      <th></th>\n",
       "      <th>title</th>\n",
       "      <th>label</th>\n",
       "      <th>tokenized</th>\n",
       "    </tr>\n",
       "  </thead>\n",
       "  <tbody>\n",
       "    <tr>\n",
       "      <th>0</th>\n",
       "      <td>wow. 20 gold. i am so happy.</td>\n",
       "      <td>1</td>\n",
       "      <td>[wow, gold, i, am, so, happy]</td>\n",
       "    </tr>\n",
       "    <tr>\n",
       "      <th>1</th>\n",
       "      <td>missions open lobby number count per missions ...</td>\n",
       "      <td>1</td>\n",
       "      <td>[missions, open, lobby, number, count, per, mi...</td>\n",
       "    </tr>\n",
       "    <tr>\n",
       "      <th>2</th>\n",
       "      <td>my new makeshift girlfriend in stw</td>\n",
       "      <td>1</td>\n",
       "      <td>[my, new, makeshift, girlfriend, in, stw]</td>\n",
       "    </tr>\n",
       "    <tr>\n",
       "      <th>3</th>\n",
       "      <td>seeing as gas traps changed should i reset my ...</td>\n",
       "      <td>1</td>\n",
       "      <td>[seeing, as, gas, traps, changed, should, i, r...</td>\n",
       "    </tr>\n",
       "    <tr>\n",
       "      <th>4</th>\n",
       "      <td>brainstorm session: new abilities</td>\n",
       "      <td>1</td>\n",
       "      <td>[brainstorm, session, new, abilities]</td>\n",
       "    </tr>\n",
       "    <tr>\n",
       "      <th>...</th>\n",
       "      <td>...</td>\n",
       "      <td>...</td>\n",
       "      <td>...</td>\n",
       "    </tr>\n",
       "    <tr>\n",
       "      <th>1995</th>\n",
       "      <td>odd zombie villager texturing</td>\n",
       "      <td>0</td>\n",
       "      <td>[odd, zombie, villager, texturing]</td>\n",
       "    </tr>\n",
       "    <tr>\n",
       "      <th>1996</th>\n",
       "      <td>my underground village is still very young but...</td>\n",
       "      <td>0</td>\n",
       "      <td>[my, underground, village, is, still, very, yo...</td>\n",
       "    </tr>\n",
       "    <tr>\n",
       "      <th>1997</th>\n",
       "      <td>a render of a map i made.</td>\n",
       "      <td>0</td>\n",
       "      <td>[a, render, of, a, map, i, made]</td>\n",
       "    </tr>\n",
       "    <tr>\n",
       "      <th>1998</th>\n",
       "      <td>i found a village halfway into a swamp!</td>\n",
       "      <td>0</td>\n",
       "      <td>[i, found, a, village, halfway, into, a, swamp]</td>\n",
       "    </tr>\n",
       "    <tr>\n",
       "      <th>1999</th>\n",
       "      <td>a small bridge i built</td>\n",
       "      <td>0</td>\n",
       "      <td>[a, small, bridge, i, built]</td>\n",
       "    </tr>\n",
       "  </tbody>\n",
       "</table>\n",
       "<p>2000 rows × 3 columns</p>\n",
       "</div>"
      ],
      "text/plain": [
       "                                                  title  label  \\\n",
       "0                          wow. 20 gold. i am so happy.      1   \n",
       "1     missions open lobby number count per missions ...      1   \n",
       "2                    my new makeshift girlfriend in stw      1   \n",
       "3     seeing as gas traps changed should i reset my ...      1   \n",
       "4                     brainstorm session: new abilities      1   \n",
       "...                                                 ...    ...   \n",
       "1995                      odd zombie villager texturing      0   \n",
       "1996  my underground village is still very young but...      0   \n",
       "1997                          a render of a map i made.      0   \n",
       "1998            i found a village halfway into a swamp!      0   \n",
       "1999                             a small bridge i built      0   \n",
       "\n",
       "                                              tokenized  \n",
       "0                         [wow, gold, i, am, so, happy]  \n",
       "1     [missions, open, lobby, number, count, per, mi...  \n",
       "2             [my, new, makeshift, girlfriend, in, stw]  \n",
       "3     [seeing, as, gas, traps, changed, should, i, r...  \n",
       "4                 [brainstorm, session, new, abilities]  \n",
       "...                                                 ...  \n",
       "1995                 [odd, zombie, villager, texturing]  \n",
       "1996  [my, underground, village, is, still, very, yo...  \n",
       "1997                   [a, render, of, a, map, i, made]  \n",
       "1998    [i, found, a, village, halfway, into, a, swamp]  \n",
       "1999                       [a, small, bridge, i, built]  \n",
       "\n",
       "[2000 rows x 3 columns]"
      ]
     },
     "execution_count": 105,
     "metadata": {},
     "output_type": "execute_result"
    }
   ],
   "source": [
    "def all_tokens(row):\n",
    "    title = row['title']\n",
    "    tokens = nltk.word_tokenize(title)\n",
    "    # taken only words (not punctuation)\n",
    "    token_words = [w for w in tokens if w.isalpha()]\n",
    "    return token_words\n",
    "\n",
    "df['tokenized'] = df.apply(all_tokens, axis=1)\n",
    "\n",
    "#double checking to make sure tokenizing worked\n",
    "df"
   ]
  },
  {
   "cell_type": "code",
   "execution_count": 106,
   "metadata": {},
   "outputs": [
    {
     "data": {
      "text/plain": [
       "0                           [wow, gold, i, am, so, happi]\n",
       "1       [mission, open, lobbi, number, count, per, mis...\n",
       "2               [my, new, makeshift, girlfriend, in, stw]\n",
       "3       [see, as, ga, trap, chang, should, i, reset, m...\n",
       "4                        [brainstorm, session, new, abil]\n",
       "                              ...                        \n",
       "1995                         [odd, zombi, villag, textur]\n",
       "1996    [my, underground, villag, is, still, veri, you...\n",
       "1997                     [a, render, of, a, map, i, made]\n",
       "1998       [i, found, a, villag, halfway, into, a, swamp]\n",
       "1999                          [a, small, bridg, i, built]\n",
       "Name: stemmed_words, Length: 2000, dtype: object"
      ]
     },
     "execution_count": 106,
     "metadata": {},
     "output_type": "execute_result"
    }
   ],
   "source": [
    "def stem_list(row):\n",
    "    stemming = PorterStemmer()\n",
    "    my_list = row['tokenized']\n",
    "    stemmed_list = [stemming.stem(word) for word in my_list]\n",
    "    return (stemmed_list)\n",
    "\n",
    "df['stemmed_words'] = df.apply(stem_list, axis=1)\n",
    "\n",
    "#double checking title now that it has been lemmatized\n",
    "df['stemmed_words']"
   ]
  },
  {
   "cell_type": "code",
   "execution_count": 107,
   "metadata": {},
   "outputs": [
    {
     "data": {
      "text/plain": [
       "0                           [wow, gold, i, am, so, happy]\n",
       "1       [mission, open, lobby, number, count, per, mis...\n",
       "2               [my, new, makeshift, girlfriend, in, stw]\n",
       "3       [seeing, a, gas, trap, changed, should, i, res...\n",
       "4                     [brainstorm, session, new, ability]\n",
       "                              ...                        \n",
       "1995                   [odd, zombie, villager, texturing]\n",
       "1996    [my, underground, village, is, still, very, yo...\n",
       "1997                     [a, render, of, a, map, i, made]\n",
       "1998      [i, found, a, village, halfway, into, a, swamp]\n",
       "1999                         [a, small, bridge, i, built]\n",
       "Name: lematized, Length: 2000, dtype: object"
      ]
     },
     "execution_count": 107,
     "metadata": {},
     "output_type": "execute_result"
    }
   ],
   "source": [
    "def lem_list(row):\n",
    "    lemmatizer = WordNetLemmatizer()\n",
    "    my_list = row['tokenized']\n",
    "    lematized_list = [lemmatizer.lemmatize(word) for word in my_list]\n",
    "    return (lematized_list)\n",
    "\n",
    "df['lematized'] = df.apply(lem_list, axis=1)\n",
    "\n",
    "df['lematized']"
   ]
  },
  {
   "cell_type": "code",
   "execution_count": 108,
   "metadata": {},
   "outputs": [
    {
     "data": {
      "text/html": [
       "<div>\n",
       "<style scoped>\n",
       "    .dataframe tbody tr th:only-of-type {\n",
       "        vertical-align: middle;\n",
       "    }\n",
       "\n",
       "    .dataframe tbody tr th {\n",
       "        vertical-align: top;\n",
       "    }\n",
       "\n",
       "    .dataframe thead th {\n",
       "        text-align: right;\n",
       "    }\n",
       "</style>\n",
       "<table border=\"1\" class=\"dataframe\">\n",
       "  <thead>\n",
       "    <tr style=\"text-align: right;\">\n",
       "      <th></th>\n",
       "      <th>title</th>\n",
       "      <th>label</th>\n",
       "      <th>tokenized</th>\n",
       "      <th>stemmed_words</th>\n",
       "      <th>lematized</th>\n",
       "    </tr>\n",
       "  </thead>\n",
       "  <tbody>\n",
       "    <tr>\n",
       "      <th>0</th>\n",
       "      <td>wow. 20 gold. i am so happy.</td>\n",
       "      <td>1</td>\n",
       "      <td>[wow, gold, i, am, so, happy]</td>\n",
       "      <td>[wow, gold, i, am, so, happi]</td>\n",
       "      <td>[wow, gold, i, am, so, happy]</td>\n",
       "    </tr>\n",
       "    <tr>\n",
       "      <th>1</th>\n",
       "      <td>missions open lobby number count per missions ...</td>\n",
       "      <td>1</td>\n",
       "      <td>[missions, open, lobby, number, count, per, mi...</td>\n",
       "      <td>[mission, open, lobbi, number, count, per, mis...</td>\n",
       "      <td>[mission, open, lobby, number, count, per, mis...</td>\n",
       "    </tr>\n",
       "    <tr>\n",
       "      <th>2</th>\n",
       "      <td>my new makeshift girlfriend in stw</td>\n",
       "      <td>1</td>\n",
       "      <td>[my, new, makeshift, girlfriend, in, stw]</td>\n",
       "      <td>[my, new, makeshift, girlfriend, in, stw]</td>\n",
       "      <td>[my, new, makeshift, girlfriend, in, stw]</td>\n",
       "    </tr>\n",
       "    <tr>\n",
       "      <th>3</th>\n",
       "      <td>seeing as gas traps changed should i reset my ...</td>\n",
       "      <td>1</td>\n",
       "      <td>[seeing, as, gas, traps, changed, should, i, r...</td>\n",
       "      <td>[see, as, ga, trap, chang, should, i, reset, m...</td>\n",
       "      <td>[seeing, a, gas, trap, changed, should, i, res...</td>\n",
       "    </tr>\n",
       "    <tr>\n",
       "      <th>4</th>\n",
       "      <td>brainstorm session: new abilities</td>\n",
       "      <td>1</td>\n",
       "      <td>[brainstorm, session, new, abilities]</td>\n",
       "      <td>[brainstorm, session, new, abil]</td>\n",
       "      <td>[brainstorm, session, new, ability]</td>\n",
       "    </tr>\n",
       "  </tbody>\n",
       "</table>\n",
       "</div>"
      ],
      "text/plain": [
       "                                               title  label  \\\n",
       "0                       wow. 20 gold. i am so happy.      1   \n",
       "1  missions open lobby number count per missions ...      1   \n",
       "2                 my new makeshift girlfriend in stw      1   \n",
       "3  seeing as gas traps changed should i reset my ...      1   \n",
       "4                  brainstorm session: new abilities      1   \n",
       "\n",
       "                                           tokenized  \\\n",
       "0                      [wow, gold, i, am, so, happy]   \n",
       "1  [missions, open, lobby, number, count, per, mi...   \n",
       "2          [my, new, makeshift, girlfriend, in, stw]   \n",
       "3  [seeing, as, gas, traps, changed, should, i, r...   \n",
       "4              [brainstorm, session, new, abilities]   \n",
       "\n",
       "                                       stemmed_words  \\\n",
       "0                      [wow, gold, i, am, so, happi]   \n",
       "1  [mission, open, lobbi, number, count, per, mis...   \n",
       "2          [my, new, makeshift, girlfriend, in, stw]   \n",
       "3  [see, as, ga, trap, chang, should, i, reset, m...   \n",
       "4                   [brainstorm, session, new, abil]   \n",
       "\n",
       "                                           lematized  \n",
       "0                      [wow, gold, i, am, so, happy]  \n",
       "1  [mission, open, lobby, number, count, per, mis...  \n",
       "2          [my, new, makeshift, girlfriend, in, stw]  \n",
       "3  [seeing, a, gas, trap, changed, should, i, res...  \n",
       "4                [brainstorm, session, new, ability]  "
      ]
     },
     "execution_count": 108,
     "metadata": {},
     "output_type": "execute_result"
    }
   ],
   "source": [
    "#looking at the different features and checking out the changes that have been made\n",
    "# lematized and stemmed_words are taken from tokenized words.\n",
    "df.head()"
   ]
  },
  {
   "cell_type": "code",
   "execution_count": 109,
   "metadata": {
    "scrolled": true
   },
   "outputs": [
    {
     "data": {
      "text/html": [
       "<div>\n",
       "<style scoped>\n",
       "    .dataframe tbody tr th:only-of-type {\n",
       "        vertical-align: middle;\n",
       "    }\n",
       "\n",
       "    .dataframe tbody tr th {\n",
       "        vertical-align: top;\n",
       "    }\n",
       "\n",
       "    .dataframe thead th {\n",
       "        text-align: right;\n",
       "    }\n",
       "</style>\n",
       "<table border=\"1\" class=\"dataframe\">\n",
       "  <thead>\n",
       "    <tr style=\"text-align: right;\">\n",
       "      <th></th>\n",
       "      <th>label</th>\n",
       "      <th>lematized</th>\n",
       "    </tr>\n",
       "  </thead>\n",
       "  <tbody>\n",
       "    <tr>\n",
       "      <th>0</th>\n",
       "      <td>1</td>\n",
       "      <td>[wow, gold, i, am, so, happy]</td>\n",
       "    </tr>\n",
       "    <tr>\n",
       "      <th>1</th>\n",
       "      <td>1</td>\n",
       "      <td>[mission, open, lobby, number, count, per, mis...</td>\n",
       "    </tr>\n",
       "    <tr>\n",
       "      <th>2</th>\n",
       "      <td>1</td>\n",
       "      <td>[my, new, makeshift, girlfriend, in, stw]</td>\n",
       "    </tr>\n",
       "    <tr>\n",
       "      <th>3</th>\n",
       "      <td>1</td>\n",
       "      <td>[seeing, a, gas, trap, changed, should, i, res...</td>\n",
       "    </tr>\n",
       "    <tr>\n",
       "      <th>4</th>\n",
       "      <td>1</td>\n",
       "      <td>[brainstorm, session, new, ability]</td>\n",
       "    </tr>\n",
       "    <tr>\n",
       "      <th>...</th>\n",
       "      <td>...</td>\n",
       "      <td>...</td>\n",
       "    </tr>\n",
       "    <tr>\n",
       "      <th>1995</th>\n",
       "      <td>0</td>\n",
       "      <td>[odd, zombie, villager, texturing]</td>\n",
       "    </tr>\n",
       "    <tr>\n",
       "      <th>1996</th>\n",
       "      <td>0</td>\n",
       "      <td>[my, underground, village, is, still, very, yo...</td>\n",
       "    </tr>\n",
       "    <tr>\n",
       "      <th>1997</th>\n",
       "      <td>0</td>\n",
       "      <td>[a, render, of, a, map, i, made]</td>\n",
       "    </tr>\n",
       "    <tr>\n",
       "      <th>1998</th>\n",
       "      <td>0</td>\n",
       "      <td>[i, found, a, village, halfway, into, a, swamp]</td>\n",
       "    </tr>\n",
       "    <tr>\n",
       "      <th>1999</th>\n",
       "      <td>0</td>\n",
       "      <td>[a, small, bridge, i, built]</td>\n",
       "    </tr>\n",
       "  </tbody>\n",
       "</table>\n",
       "<p>2000 rows × 2 columns</p>\n",
       "</div>"
      ],
      "text/plain": [
       "      label                                          lematized\n",
       "0         1                      [wow, gold, i, am, so, happy]\n",
       "1         1  [mission, open, lobby, number, count, per, mis...\n",
       "2         1          [my, new, makeshift, girlfriend, in, stw]\n",
       "3         1  [seeing, a, gas, trap, changed, should, i, res...\n",
       "4         1                [brainstorm, session, new, ability]\n",
       "...     ...                                                ...\n",
       "1995      0                 [odd, zombie, villager, texturing]\n",
       "1996      0  [my, underground, village, is, still, very, yo...\n",
       "1997      0                   [a, render, of, a, map, i, made]\n",
       "1998      0    [i, found, a, village, halfway, into, a, swamp]\n",
       "1999      0                       [a, small, bridge, i, built]\n",
       "\n",
       "[2000 rows x 2 columns]"
      ]
     },
     "execution_count": 109,
     "metadata": {},
     "output_type": "execute_result"
    }
   ],
   "source": [
    "#i like the lematized version best so we will stick with that version\n",
    "df.drop(['title', 'tokenized', 'stemmed_words'], inplace=True, axis=1)\n",
    "\n",
    "df"
   ]
  },
  {
   "cell_type": "code",
   "execution_count": 110,
   "metadata": {},
   "outputs": [
    {
     "name": "stdout",
     "output_type": "stream",
     "text": [
      "['i', 'me', 'my', 'myself', 'we', 'our', 'ours', 'ourselves', 'you', \"you're\", \"you've\", \"you'll\", \"you'd\", 'your', 'yours', 'yourself', 'yourselves', 'he', 'him', 'his', 'himself', 'she', \"she's\", 'her', 'hers', 'herself', 'it', \"it's\", 'its', 'itself', 'they', 'them', 'their', 'theirs', 'themselves', 'what', 'which', 'who', 'whom', 'this', 'that', \"that'll\", 'these', 'those', 'am', 'is', 'are', 'was', 'were', 'be', 'been', 'being', 'have', 'has', 'had', 'having', 'do', 'does', 'did', 'doing', 'a', 'an', 'the', 'and', 'but', 'if', 'or', 'because', 'as', 'until', 'while', 'of', 'at', 'by', 'for', 'with', 'about', 'against', 'between', 'into', 'through', 'during', 'before', 'after', 'above', 'below', 'to', 'from', 'up', 'down', 'in', 'out', 'on', 'off', 'over', 'under', 'again', 'further', 'then', 'once', 'here', 'there', 'when', 'where', 'why', 'how', 'all', 'any', 'both', 'each', 'few', 'more', 'most', 'other', 'some', 'such', 'no', 'nor', 'not', 'only', 'own', 'same', 'so', 'than', 'too', 'very', 's', 't', 'can', 'will', 'just', 'don', \"don't\", 'should', \"should've\", 'now', 'd', 'll', 'm', 'o', 're', 've', 'y', 'ain', 'aren', \"aren't\", 'couldn', \"couldn't\", 'didn', \"didn't\", 'doesn', \"doesn't\", 'hadn', \"hadn't\", 'hasn', \"hasn't\", 'haven', \"haven't\", 'isn', \"isn't\", 'ma', 'mightn', \"mightn't\", 'mustn', \"mustn't\", 'needn', \"needn't\", 'shan', \"shan't\", 'shouldn', \"shouldn't\", 'wasn', \"wasn't\", 'weren', \"weren't\", 'won', \"won't\", 'wouldn', \"wouldn't\"]\n"
     ]
    }
   ],
   "source": [
    "print(stopwords.words(\"english\"))"
   ]
  },
  {
   "cell_type": "code",
   "execution_count": 111,
   "metadata": {},
   "outputs": [
    {
     "data": {
      "text/plain": [
       "0                                      [wow, gold, happy]\n",
       "1       [mission, open, lobby, number, count, per, mis...\n",
       "2                       [new, makeshift, girlfriend, stw]\n",
       "3          [seeing, gas, trap, changed, reset, schematic]\n",
       "4                     [brainstorm, session, new, ability]\n",
       "                              ...                        \n",
       "1995                   [odd, zombie, villager, texturing]\n",
       "1996    [underground, village, still, young, many, sto...\n",
       "1997                                  [render, map, made]\n",
       "1998                     [found, village, halfway, swamp]\n",
       "1999                               [small, bridge, built]\n",
       "Name: without_stops, Length: 2000, dtype: object"
      ]
     },
     "execution_count": 111,
     "metadata": {},
     "output_type": "execute_result"
    }
   ],
   "source": [
    "from nltk.corpus import stopwords\n",
    "stops = set(stopwords.words(\"english\"))    \n",
    "\n",
    "def remove_stops(row):\n",
    "    my_list = row['lematized']\n",
    "    meaningful_words = [w for w in my_list if not w in stops]\n",
    "    return (meaningful_words)\n",
    "\n",
    "df['without_stops'] = df.apply(remove_stops, axis=1)\n",
    "df.without_stops"
   ]
  },
  {
   "cell_type": "code",
   "execution_count": 112,
   "metadata": {},
   "outputs": [
    {
     "data": {
      "text/html": [
       "<div>\n",
       "<style scoped>\n",
       "    .dataframe tbody tr th:only-of-type {\n",
       "        vertical-align: middle;\n",
       "    }\n",
       "\n",
       "    .dataframe tbody tr th {\n",
       "        vertical-align: top;\n",
       "    }\n",
       "\n",
       "    .dataframe thead th {\n",
       "        text-align: right;\n",
       "    }\n",
       "</style>\n",
       "<table border=\"1\" class=\"dataframe\">\n",
       "  <thead>\n",
       "    <tr style=\"text-align: right;\">\n",
       "      <th></th>\n",
       "      <th>label</th>\n",
       "      <th>lematized</th>\n",
       "      <th>without_stops</th>\n",
       "    </tr>\n",
       "  </thead>\n",
       "  <tbody>\n",
       "    <tr>\n",
       "      <th>0</th>\n",
       "      <td>1</td>\n",
       "      <td>[wow, gold, i, am, so, happy]</td>\n",
       "      <td>[wow, gold, happy]</td>\n",
       "    </tr>\n",
       "    <tr>\n",
       "      <th>1</th>\n",
       "      <td>1</td>\n",
       "      <td>[mission, open, lobby, number, count, per, mis...</td>\n",
       "      <td>[mission, open, lobby, number, count, per, mis...</td>\n",
       "    </tr>\n",
       "  </tbody>\n",
       "</table>\n",
       "</div>"
      ],
      "text/plain": [
       "   label                                          lematized  \\\n",
       "0      1                      [wow, gold, i, am, so, happy]   \n",
       "1      1  [mission, open, lobby, number, count, per, mis...   \n",
       "\n",
       "                                       without_stops  \n",
       "0                                 [wow, gold, happy]  \n",
       "1  [mission, open, lobby, number, count, per, mis...  "
      ]
     },
     "execution_count": 112,
     "metadata": {},
     "output_type": "execute_result"
    }
   ],
   "source": [
    "#comparing the regular lematized words to words \n",
    "df.head(2)"
   ]
  },
  {
   "cell_type": "code",
   "execution_count": 113,
   "metadata": {},
   "outputs": [
    {
     "name": "stdout",
     "output_type": "stream",
     "text": [
      "0                                   [wow, gold, happy]\n",
      "1    [mission, open, lobby, number, count, per, mis...\n",
      "2                    [new, makeshift, girlfriend, stw]\n",
      "3       [seeing, gas, trap, changed, reset, schematic]\n",
      "4                  [brainstorm, session, new, ability]\n",
      "5    [hidden, alert, reward, reward, comment, mythi...\n",
      "6               [okay, seriously, need, new, game, ui]\n",
      "7    [chicken, bender, got, ta, eat, chicken, tende...\n",
      "8    [x, reward, someone, posted, got, mythic, lead...\n",
      "9    [find, new, quest, page, clicking, past, busin...\n",
      "Name: without_stops, dtype: object\n"
     ]
    }
   ],
   "source": [
    "#checking out what removing the stop words looks like\n",
    "print(df['without_stops'][0:10])"
   ]
  },
  {
   "cell_type": "code",
   "execution_count": 114,
   "metadata": {},
   "outputs": [
    {
     "data": {
      "text/html": [
       "<div>\n",
       "<style scoped>\n",
       "    .dataframe tbody tr th:only-of-type {\n",
       "        vertical-align: middle;\n",
       "    }\n",
       "\n",
       "    .dataframe tbody tr th {\n",
       "        vertical-align: top;\n",
       "    }\n",
       "\n",
       "    .dataframe thead th {\n",
       "        text-align: right;\n",
       "    }\n",
       "</style>\n",
       "<table border=\"1\" class=\"dataframe\">\n",
       "  <thead>\n",
       "    <tr style=\"text-align: right;\">\n",
       "      <th></th>\n",
       "      <th>label</th>\n",
       "      <th>lematized</th>\n",
       "      <th>without_stops</th>\n",
       "      <th>processed</th>\n",
       "    </tr>\n",
       "  </thead>\n",
       "  <tbody>\n",
       "    <tr>\n",
       "      <th>0</th>\n",
       "      <td>1</td>\n",
       "      <td>[wow, gold, i, am, so, happy]</td>\n",
       "      <td>[wow, gold, happy]</td>\n",
       "      <td>wow gold happy</td>\n",
       "    </tr>\n",
       "    <tr>\n",
       "      <th>1</th>\n",
       "      <td>1</td>\n",
       "      <td>[mission, open, lobby, number, count, per, mis...</td>\n",
       "      <td>[mission, open, lobby, number, count, per, mis...</td>\n",
       "      <td>mission open lobby number count per mission li...</td>\n",
       "    </tr>\n",
       "  </tbody>\n",
       "</table>\n",
       "</div>"
      ],
      "text/plain": [
       "   label                                          lematized  \\\n",
       "0      1                      [wow, gold, i, am, so, happy]   \n",
       "1      1  [mission, open, lobby, number, count, per, mis...   \n",
       "\n",
       "                                       without_stops  \\\n",
       "0                                 [wow, gold, happy]   \n",
       "1  [mission, open, lobby, number, count, per, mis...   \n",
       "\n",
       "                                           processed  \n",
       "0                                     wow gold happy  \n",
       "1  mission open lobby number count per mission li...  "
      ]
     },
     "execution_count": 114,
     "metadata": {},
     "output_type": "execute_result"
    }
   ],
   "source": [
    "#changing the documents from individual strings to one string per document\n",
    "def rejoin_words(row):\n",
    "    my_list = row['without_stops']\n",
    "    joined_words = ( \" \".join(my_list))\n",
    "    return joined_words\n",
    "\n",
    "df['processed'] = df.apply(rejoin_words, axis=1)\n",
    "\n",
    "df.head(2)"
   ]
  },
  {
   "cell_type": "code",
   "execution_count": 115,
   "metadata": {},
   "outputs": [],
   "source": [
    "#keeping the processed data as our new title\n",
    "df.rename(columns={'processed':'title'}, inplace=True)"
   ]
  },
  {
   "cell_type": "code",
   "execution_count": 116,
   "metadata": {},
   "outputs": [
    {
     "data": {
      "text/html": [
       "<div>\n",
       "<style scoped>\n",
       "    .dataframe tbody tr th:only-of-type {\n",
       "        vertical-align: middle;\n",
       "    }\n",
       "\n",
       "    .dataframe tbody tr th {\n",
       "        vertical-align: top;\n",
       "    }\n",
       "\n",
       "    .dataframe thead th {\n",
       "        text-align: right;\n",
       "    }\n",
       "</style>\n",
       "<table border=\"1\" class=\"dataframe\">\n",
       "  <thead>\n",
       "    <tr style=\"text-align: right;\">\n",
       "      <th></th>\n",
       "      <th>label</th>\n",
       "      <th>title</th>\n",
       "    </tr>\n",
       "  </thead>\n",
       "  <tbody>\n",
       "    <tr>\n",
       "      <th>0</th>\n",
       "      <td>1</td>\n",
       "      <td>wow gold happy</td>\n",
       "    </tr>\n",
       "    <tr>\n",
       "      <th>1</th>\n",
       "      <td>1</td>\n",
       "      <td>mission open lobby number count per mission li...</td>\n",
       "    </tr>\n",
       "  </tbody>\n",
       "</table>\n",
       "</div>"
      ],
      "text/plain": [
       "   label                                              title\n",
       "0      1                                     wow gold happy\n",
       "1      1  mission open lobby number count per mission li..."
      ]
     },
     "execution_count": 116,
     "metadata": {},
     "output_type": "execute_result"
    }
   ],
   "source": [
    "df.drop(['lematized', 'without_stops'], inplace=True, axis=1)\n",
    "\n",
    "#new tokenized, lematized and stop words removed\n",
    "df.head(2)"
   ]
  },
  {
   "cell_type": "code",
   "execution_count": 117,
   "metadata": {},
   "outputs": [
    {
     "data": {
      "text/html": [
       "<div>\n",
       "<style scoped>\n",
       "    .dataframe tbody tr th:only-of-type {\n",
       "        vertical-align: middle;\n",
       "    }\n",
       "\n",
       "    .dataframe tbody tr th {\n",
       "        vertical-align: top;\n",
       "    }\n",
       "\n",
       "    .dataframe thead th {\n",
       "        text-align: right;\n",
       "    }\n",
       "</style>\n",
       "<table border=\"1\" class=\"dataframe\">\n",
       "  <thead>\n",
       "    <tr style=\"text-align: right;\">\n",
       "      <th></th>\n",
       "      <th>label</th>\n",
       "      <th>title</th>\n",
       "    </tr>\n",
       "  </thead>\n",
       "  <tbody>\n",
       "    <tr>\n",
       "      <th>0</th>\n",
       "      <td>1</td>\n",
       "      <td>wow gold happy</td>\n",
       "    </tr>\n",
       "    <tr>\n",
       "      <th>1</th>\n",
       "      <td>1</td>\n",
       "      <td>mission open lobby number count per mission li...</td>\n",
       "    </tr>\n",
       "  </tbody>\n",
       "</table>\n",
       "</div>"
      ],
      "text/plain": [
       "   label                                              title\n",
       "0      1                                     wow gold happy\n",
       "1      1  mission open lobby number count per mission li..."
      ]
     },
     "execution_count": 117,
     "metadata": {},
     "output_type": "execute_result"
    }
   ],
   "source": [
    "#saving the processed information to a csv incase we need to pull the information again\n",
    "df.to_csv('df_processed.csv', index=False)\n",
    "\n",
    "df.head(2)"
   ]
  },
  {
   "cell_type": "code",
   "execution_count": 118,
   "metadata": {},
   "outputs": [
    {
     "data": {
      "text/plain": [
       "[('minecraft', 105),\n",
       " ('new', 99),\n",
       " ('wa', 88),\n",
       " ('made', 88),\n",
       " ('game', 83),\n",
       " ('found', 76),\n",
       " ('mission', 75),\n",
       " ('like', 73),\n",
       " ('world', 72),\n",
       " ('get', 71),\n",
       " ('build', 67),\n",
       " ('epic', 63),\n",
       " ('think', 63),\n",
       " ('one', 62),\n",
       " ('first', 58),\n",
       " ('got', 57),\n",
       " ('stw', 54),\n",
       " ('know', 54),\n",
       " ('time', 53),\n",
       " ('look', 52),\n",
       " ('make', 47),\n",
       " ('good', 47),\n",
       " ('house', 45),\n",
       " ('block', 43),\n",
       " ('bug', 42),\n",
       " ('ha', 41),\n",
       " ('doe', 41),\n",
       " ('friend', 41),\n",
       " ('idea', 39),\n",
       " ('anyone', 37)]"
      ]
     },
     "execution_count": 118,
     "metadata": {},
     "output_type": "execute_result"
    }
   ],
   "source": [
    "#checking out the most common words in the dataframe overall\n",
    "count = Counter(\" \".join(df[\"title\"]).split()).most_common(100)\n",
    "count[:30]"
   ]
  },
  {
   "cell_type": "markdown",
   "metadata": {},
   "source": [
    "### Setting up out data for modeling"
   ]
  },
  {
   "cell_type": "code",
   "execution_count": 119,
   "metadata": {},
   "outputs": [],
   "source": [
    "#lets set up our data for modeling\n",
    "X = df['title']\n",
    "y = df['label']"
   ]
  },
  {
   "cell_type": "markdown",
   "metadata": {},
   "source": [
    "### Dividing data set into two subsets:"
   ]
  },
  {
   "cell_type": "code",
   "execution_count": 120,
   "metadata": {},
   "outputs": [],
   "source": [
    "# Split the data into the training and testing sets.\n",
    "X_train, X_test, y_train, y_test = train_test_split(X,\n",
    "                                                    y,\n",
    "                                                    test_size=0.33,\n",
    "                                                    stratify=y,\n",
    "                                                    random_state=42)"
   ]
  },
  {
   "cell_type": "code",
   "execution_count": 76,
   "metadata": {},
   "outputs": [
    {
     "name": "stdout",
     "output_type": "stream",
     "text": [
      "best score:  0.7529850746268656\n",
      "training score: 0.8216417910447761\n",
      "test score: 0.7545454545454545\n"
     ]
    }
   ],
   "source": [
    "#instantiating pipeline\n",
    "pipe = Pipeline(\n",
    "    [\n",
    "        ('cvec', CountVectorizer()),\n",
    "        ('logreg', LogisticRegression(solver='liblinear'))\n",
    "    ]\n",
    ")\n",
    "\n",
    "# Search over the following values of hyperparameters:\n",
    "# Maximum number of features fit: 1000\n",
    "# Minimum number of documents needed to include token: 10\n",
    "# Maximum number of documents needed to include token: .15, .90\n",
    "# Check (individual tokens) and also check (individual tokens and 2-grams).\n",
    "\n",
    "pipe_params = {\n",
    "    'cvec__max_features': [1000],\n",
    "    'cvec__min_df': [10],\n",
    "    'cvec__max_df': [.15, .90],\n",
    "    'cvec__ngram_range': [(1,1), (1,2)]\n",
    "}\n",
    "\n",
    "# Instantiate GridSearchCV.\n",
    "\n",
    "gs = GridSearchCV(pipe, # what object are we optimizing?\n",
    "                  pipe_params, # what parameters values are we searching?\n",
    "                  cv = 5) # 5-fold cross-validation.\n",
    "\n",
    "# Fit GridSearch to training data.\n",
    "gs.fit(X_train, y_train)\n",
    "\n",
    "# What's the best score?\n",
    "print(\"best score: \",gs.best_score_)\n",
    "\n",
    "gs.best_params_\n",
    "\n",
    "# Save best model as gs_model.\n",
    "gs_model = gs.best_estimator_\n",
    "gs_model\n",
    "\n",
    "# Score model on training set.\n",
    "print(\"training score:\", gs_model.score(X_train, y_train))\n",
    "\n",
    "# Score model on testing set.\n",
    "print(\"test score:\", gs_model.score(X_test, y_test))"
   ]
  },
  {
   "cell_type": "markdown",
   "metadata": {},
   "source": [
    "## MODELING"
   ]
  },
  {
   "cell_type": "markdown",
   "metadata": {},
   "source": [
    "### 1.) Logistic Regresstion w/ Countvectorizer"
   ]
  },
  {
   "cell_type": "code",
   "execution_count": 77,
   "metadata": {},
   "outputs": [
    {
     "name": "stdout",
     "output_type": "stream",
     "text": [
      "best score:  0.7529850746268656\n",
      "training score: 0.8216417910447761\n",
      "test score: 0.7545454545454545\n"
     ]
    }
   ],
   "source": [
    "#instantiating pipeline\n",
    "pipe = Pipeline(\n",
    "    [\n",
    "        ('cvec', CountVectorizer()),\n",
    "        ('logreg', LogisticRegression(solver='liblinear'))\n",
    "    ]\n",
    ")\n",
    "\n",
    "# Search over the following values of hyperparameters:\n",
    "# Maximum number of features fit: 1000\n",
    "# Minimum number of documents needed to include token: 10\n",
    "# Maximum number of documents needed to include token: .15, .90\n",
    "# Check (individual tokens) and also check (individual tokens and 2-grams).\n",
    "\n",
    "pipe_params = {\n",
    "    'cvec__max_features': [1000],\n",
    "    'cvec__min_df': [10],\n",
    "    'cvec__max_df': [.15, .90],\n",
    "    'cvec__ngram_range': [(1,1), (1,2)]\n",
    "}\n",
    "\n",
    "# Instantiate GridSearchCV.\n",
    "\n",
    "gs = GridSearchCV(pipe, # what object are we optimizing?\n",
    "                  pipe_params, # what parameters values are we searching?\n",
    "                  cv = 5) # 5-fold cross-validation.\n",
    "\n",
    "# Fit GridSearch to training data.\n",
    "gs.fit(X_train, y_train)\n",
    "\n",
    "# What's the best score?\n",
    "print(\"best score: \",gs.best_score_)\n",
    "\n",
    "gs.best_params_\n",
    "\n",
    "# Save best model as gs_model.\n",
    "gs_model = gs.best_estimator_\n",
    "gs_model\n",
    "\n",
    "# Score model on training set.\n",
    "print(\"training score:\", gs_model.score(X_train, y_train))\n",
    "\n",
    "# Score model on testing set.\n",
    "print(\"test score:\", gs_model.score(X_test, y_test))"
   ]
  },
  {
   "cell_type": "code",
   "execution_count": 78,
   "metadata": {},
   "outputs": [
    {
     "data": {
      "text/plain": [
       "{'cvec__max_df': 0.15,\n",
       " 'cvec__max_features': 1000,\n",
       " 'cvec__min_df': 10,\n",
       " 'cvec__ngram_range': (1, 1)}"
      ]
     },
     "execution_count": 78,
     "metadata": {},
     "output_type": "execute_result"
    }
   ],
   "source": [
    "gs.best_params_\n"
   ]
  },
  {
   "cell_type": "markdown",
   "metadata": {},
   "source": [
    "### Bag of Words "
   ]
  },
  {
   "cell_type": "code",
   "execution_count": 79,
   "metadata": {},
   "outputs": [],
   "source": [
    "train_bag_of_words = gs_model[0].fit_transform(X_train)\n",
    "\n",
    "# gs_model[1].coef_[0]\n",
    "\n",
    "sum_words = train_bag_of_words.sum(axis=0) \n",
    "words_freq = [(word, sum_words[0, idx]) for word, idx in gs_model[0].vocabulary_.items()]\n",
    "words_df = pd.DataFrame(words_freq, columns=[\"words\", \"frequency\"])\n",
    "words_df[\"coefficient\"] = gs_model[1].coef_[0]"
   ]
  },
  {
   "cell_type": "code",
   "execution_count": 80,
   "metadata": {},
   "outputs": [
    {
     "data": {
      "text/html": [
       "<div>\n",
       "<style scoped>\n",
       "    .dataframe tbody tr th:only-of-type {\n",
       "        vertical-align: middle;\n",
       "    }\n",
       "\n",
       "    .dataframe tbody tr th {\n",
       "        vertical-align: top;\n",
       "    }\n",
       "\n",
       "    .dataframe thead th {\n",
       "        text-align: right;\n",
       "    }\n",
       "</style>\n",
       "<table border=\"1\" class=\"dataframe\">\n",
       "  <thead>\n",
       "    <tr style=\"text-align: right;\">\n",
       "      <th></th>\n",
       "      <th>words</th>\n",
       "      <th>frequency</th>\n",
       "      <th>coefficient</th>\n",
       "    </tr>\n",
       "  </thead>\n",
       "  <tbody>\n",
       "    <tr>\n",
       "      <th>8</th>\n",
       "      <td>weapon</td>\n",
       "      <td>17</td>\n",
       "      <td>-1.678517</td>\n",
       "    </tr>\n",
       "    <tr>\n",
       "      <th>11</th>\n",
       "      <td>epic</td>\n",
       "      <td>45</td>\n",
       "      <td>-2.105830</td>\n",
       "    </tr>\n",
       "    <tr>\n",
       "      <th>15</th>\n",
       "      <td>sorry</td>\n",
       "      <td>13</td>\n",
       "      <td>-0.768160</td>\n",
       "    </tr>\n",
       "    <tr>\n",
       "      <th>16</th>\n",
       "      <td>people</td>\n",
       "      <td>18</td>\n",
       "      <td>-2.161831</td>\n",
       "    </tr>\n",
       "    <tr>\n",
       "      <th>20</th>\n",
       "      <td>man</td>\n",
       "      <td>10</td>\n",
       "      <td>-1.158151</td>\n",
       "    </tr>\n",
       "    <tr>\n",
       "      <th>22</th>\n",
       "      <td>villager</td>\n",
       "      <td>22</td>\n",
       "      <td>-1.113280</td>\n",
       "    </tr>\n",
       "    <tr>\n",
       "      <th>26</th>\n",
       "      <td>reward</td>\n",
       "      <td>14</td>\n",
       "      <td>-0.816243</td>\n",
       "    </tr>\n",
       "    <tr>\n",
       "      <th>27</th>\n",
       "      <td>someone</td>\n",
       "      <td>15</td>\n",
       "      <td>-0.623323</td>\n",
       "    </tr>\n",
       "    <tr>\n",
       "      <th>36</th>\n",
       "      <td>first</td>\n",
       "      <td>36</td>\n",
       "      <td>-1.338027</td>\n",
       "    </tr>\n",
       "    <tr>\n",
       "      <th>38</th>\n",
       "      <td>thought</td>\n",
       "      <td>29</td>\n",
       "      <td>-0.643200</td>\n",
       "    </tr>\n",
       "  </tbody>\n",
       "</table>\n",
       "</div>"
      ],
      "text/plain": [
       "       words  frequency  coefficient\n",
       "8     weapon         17    -1.678517\n",
       "11      epic         45    -2.105830\n",
       "15     sorry         13    -0.768160\n",
       "16    people         18    -2.161831\n",
       "20       man         10    -1.158151\n",
       "22  villager         22    -1.113280\n",
       "26    reward         14    -0.816243\n",
       "27   someone         15    -0.623323\n",
       "36     first         36    -1.338027\n",
       "38   thought         29    -0.643200"
      ]
     },
     "execution_count": 80,
     "metadata": {},
     "output_type": "execute_result"
    }
   ],
   "source": [
    "minecraft_0 = words_df[words_df[\"coefficient\"] < -0.5]\n",
    "minecraft_0.head(10)"
   ]
  },
  {
   "cell_type": "code",
   "execution_count": 81,
   "metadata": {},
   "outputs": [
    {
     "data": {
      "text/html": [
       "<div>\n",
       "<style scoped>\n",
       "    .dataframe tbody tr th:only-of-type {\n",
       "        vertical-align: middle;\n",
       "    }\n",
       "\n",
       "    .dataframe tbody tr th {\n",
       "        vertical-align: top;\n",
       "    }\n",
       "\n",
       "    .dataframe thead th {\n",
       "        text-align: right;\n",
       "    }\n",
       "</style>\n",
       "<table border=\"1\" class=\"dataframe\">\n",
       "  <thead>\n",
       "    <tr style=\"text-align: right;\">\n",
       "      <th></th>\n",
       "      <th>words</th>\n",
       "      <th>frequency</th>\n",
       "      <th>coefficient</th>\n",
       "    </tr>\n",
       "  </thead>\n",
       "  <tbody>\n",
       "    <tr>\n",
       "      <th>1</th>\n",
       "      <td>found</td>\n",
       "      <td>55</td>\n",
       "      <td>-0.411424</td>\n",
       "    </tr>\n",
       "    <tr>\n",
       "      <th>2</th>\n",
       "      <td>glitch</td>\n",
       "      <td>12</td>\n",
       "      <td>0.337053</td>\n",
       "    </tr>\n",
       "    <tr>\n",
       "      <th>3</th>\n",
       "      <td>idea</td>\n",
       "      <td>27</td>\n",
       "      <td>0.001185</td>\n",
       "    </tr>\n",
       "    <tr>\n",
       "      <th>4</th>\n",
       "      <td>seed</td>\n",
       "      <td>13</td>\n",
       "      <td>-0.061988</td>\n",
       "    </tr>\n",
       "    <tr>\n",
       "      <th>6</th>\n",
       "      <td>use</td>\n",
       "      <td>16</td>\n",
       "      <td>-0.453681</td>\n",
       "    </tr>\n",
       "    <tr>\n",
       "      <th>7</th>\n",
       "      <td>block</td>\n",
       "      <td>31</td>\n",
       "      <td>-0.136832</td>\n",
       "    </tr>\n",
       "    <tr>\n",
       "      <th>8</th>\n",
       "      <td>weapon</td>\n",
       "      <td>17</td>\n",
       "      <td>-1.678517</td>\n",
       "    </tr>\n",
       "    <tr>\n",
       "      <th>10</th>\n",
       "      <td>find</td>\n",
       "      <td>12</td>\n",
       "      <td>0.386244</td>\n",
       "    </tr>\n",
       "    <tr>\n",
       "      <th>11</th>\n",
       "      <td>epic</td>\n",
       "      <td>45</td>\n",
       "      <td>-2.105830</td>\n",
       "    </tr>\n",
       "    <tr>\n",
       "      <th>14</th>\n",
       "      <td>one</td>\n",
       "      <td>40</td>\n",
       "      <td>-0.400693</td>\n",
       "    </tr>\n",
       "  </tbody>\n",
       "</table>\n",
       "</div>"
      ],
      "text/plain": [
       "     words  frequency  coefficient\n",
       "1    found         55    -0.411424\n",
       "2   glitch         12     0.337053\n",
       "3     idea         27     0.001185\n",
       "4     seed         13    -0.061988\n",
       "6      use         16    -0.453681\n",
       "7    block         31    -0.136832\n",
       "8   weapon         17    -1.678517\n",
       "10    find         12     0.386244\n",
       "11    epic         45    -2.105830\n",
       "14     one         40    -0.400693"
      ]
     },
     "execution_count": 81,
     "metadata": {},
     "output_type": "execute_result"
    }
   ],
   "source": [
    "fortnite_1= words_df[words_df[\"coefficient\"] < 0.5]\n",
    "fortnite_1.head(10)"
   ]
  },
  {
   "cell_type": "markdown",
   "metadata": {},
   "source": [
    "### 2.) LogisticRegression (estimator) w/ TFIDF classifier (transformer)"
   ]
  },
  {
   "cell_type": "code",
   "execution_count": 82,
   "metadata": {},
   "outputs": [
    {
     "name": "stdout",
     "output_type": "stream",
     "text": [
      "best score:  0.7559701492537314\n",
      "training score: 0.8201492537313433\n",
      "test score: 0.7575757575757576\n"
     ]
    }
   ],
   "source": [
    "#instantiating pipeline\n",
    "pipe2 = Pipeline(\n",
    "    [\n",
    "        ('tfidf', TfidfVectorizer()),\n",
    "        ('logreg', LogisticRegression(solver='liblinear'))\n",
    "    ]\n",
    ")\n",
    "\n",
    "# Search over the following values of hyperparameters:\n",
    "# Maximum number of features fit: 50\n",
    "# Minimum number of documents needed to include token: 10\n",
    "# Maximum number of documents needed to include token: 90%, 95%\n",
    "# Check (individual tokens) and also check (individual tokens and 2-grams).\n",
    "\n",
    "pipe2_params = {\n",
    "    'tfidf__max_features': [1000],\n",
    "    'tfidf__min_df': [10],\n",
    "    'tfidf__max_df': [.9, .95],\n",
    "    'tfidf__ngram_range': [(1,1), (1,2), (1,3)]\n",
    "}\n",
    "\n",
    "# Instantiate GridSearchCV.\n",
    "\n",
    "gs2 = GridSearchCV(pipe2, # what object are we optimizing?\n",
    "                  pipe2_params, # what parameters values are we searching?\n",
    "                  cv = 5) # 5-fold cross-validation.\n",
    "\n",
    "gs2.fit(X_train, y_train)\n",
    "\n",
    "# What's the best score?\n",
    "print(\"best score: \",gs2.best_score_)\n",
    "\n",
    "gs2.best_params_\n",
    "\n",
    "# Save best model as gs_model.\n",
    "gs2_model = gs2.best_estimator_\n",
    "gs2_model\n",
    "\n",
    "# Score model on training set.\n",
    "print(\"training score:\", gs2_model.score(X_train, y_train))\n",
    "\n",
    "# Score model on testing set.\n",
    "print(\"test score:\", gs2_model.score(X_test, y_test))"
   ]
  },
  {
   "cell_type": "code",
   "execution_count": 83,
   "metadata": {},
   "outputs": [
    {
     "data": {
      "text/plain": [
       "array([[490, 180],\n",
       "       [ 61, 609]])"
      ]
     },
     "execution_count": 83,
     "metadata": {},
     "output_type": "execute_result"
    }
   ],
   "source": [
    "#confusion matrix\n",
    "pred = gs2_model.predict(X_train)\n",
    "\n",
    "pred\n",
    "\n",
    "\n",
    "cm = confusion_matrix(y_train, pred)\n",
    "\n",
    "cm"
   ]
  },
  {
   "cell_type": "markdown",
   "metadata": {},
   "source": [
    "### 3.) Niave Bayes (Multinomial w/ Count Vectorizer)\n",
    "### Multinomial #1"
   ]
  },
  {
   "cell_type": "code",
   "execution_count": 84,
   "metadata": {
    "scrolled": true
   },
   "outputs": [
    {
     "name": "stdout",
     "output_type": "stream",
     "text": [
      "training score: 0.9574626865671642\n",
      "test score: 0.8378787878787879\n"
     ]
    }
   ],
   "source": [
    "cvec = CountVectorizer()\n",
    "\n",
    "train_df = cvec.fit_transform(X_train)\n",
    "\n",
    "test_df = cvec.transform(X_test)\n",
    "\n",
    "mnb = MultinomialNB()\n",
    "\n",
    "mnb.fit(train_df, y_train)\n",
    "\n",
    "print(\"training score:\",mnb.score(train_df, y_train))\n",
    "\n",
    "print(\"test score:\",mnb.score(test_df, y_test))"
   ]
  },
  {
   "cell_type": "code",
   "execution_count": 85,
   "metadata": {},
   "outputs": [
    {
     "data": {
      "text/plain": [
       "array([[645,  25],\n",
       "       [ 32, 638]])"
      ]
     },
     "execution_count": 85,
     "metadata": {},
     "output_type": "execute_result"
    }
   ],
   "source": [
    "#confusion matrix\n",
    "pred = mnb.predict(train_df)\n",
    "\n",
    "pred\n",
    "\n",
    "cm = confusion_matrix(y_train, pred)\n",
    "\n",
    "cm"
   ]
  },
  {
   "cell_type": "markdown",
   "metadata": {},
   "source": [
    "### Multinomial #2"
   ]
  },
  {
   "cell_type": "code",
   "execution_count": 86,
   "metadata": {},
   "outputs": [
    {
     "name": "stdout",
     "output_type": "stream",
     "text": [
      "training score: 0.9723880597014926\n",
      "test score: 0.8257575757575758\n"
     ]
    },
    {
     "name": "stderr",
     "output_type": "stream",
     "text": [
      "/Users/caseypeacock/opt/anaconda3/lib/python3.7/site-packages/sklearn/naive_bayes.py:507: UserWarning: alpha too small will result in numeric errors, setting alpha = 1.0e-10\n",
      "  'setting alpha = %.1e' % _ALPHA_MIN)\n"
     ]
    }
   ],
   "source": [
    "cvec2 = CountVectorizer()\n",
    "\n",
    "train_df = cvec2.fit_transform(X_train)\n",
    "\n",
    "test_df = cvec2.transform(X_test)\n",
    "\n",
    "mnb2 = MultinomialNB(alpha=0)\n",
    "\n",
    "mnb2.fit(train_df, y_train)\n",
    "\n",
    "print(\"training score:\",mnb2.score(train_df, y_train))\n",
    "\n",
    "print(\"test score:\",mnb2.score(test_df, y_test))"
   ]
  },
  {
   "cell_type": "code",
   "execution_count": 87,
   "metadata": {},
   "outputs": [
    {
     "data": {
      "text/plain": [
       "array([[653,  17],\n",
       "       [ 20, 650]])"
      ]
     },
     "execution_count": 87,
     "metadata": {},
     "output_type": "execute_result"
    }
   ],
   "source": [
    "#confusion matrix\n",
    "pred = mnb2.predict(train_df)\n",
    "\n",
    "pred\n",
    "\n",
    "cm = confusion_matrix(y_train, pred)\n",
    "\n",
    "cm"
   ]
  },
  {
   "cell_type": "markdown",
   "metadata": {},
   "source": [
    "### 4.) Naive Bayes - Gaussian w/ TFIDF"
   ]
  },
  {
   "cell_type": "code",
   "execution_count": 88,
   "metadata": {},
   "outputs": [
    {
     "name": "stdout",
     "output_type": "stream",
     "text": [
      "training score: 0.9656716417910448\n",
      "test score: 0.7545454545454545\n"
     ]
    }
   ],
   "source": [
    "tvec = TfidfVectorizer()\n",
    "\n",
    "train_df2 = tvec.fit_transform(X_train)\n",
    "train_df2 = train_df2.toarray()\n",
    "\n",
    "test_df2 = tvec.transform(X_test)\n",
    "test_df2 = test_df2.toarray()\n",
    "\n",
    "gnb = GaussianNB()\n",
    "\n",
    "gnb.fit(train_df2, y_train)\n",
    "\n",
    "print(\"training score:\",gnb.score(train_df2, y_train))\n",
    "\n",
    "print(\"test score:\",gnb.score(test_df2, y_test))"
   ]
  },
  {
   "cell_type": "code",
   "execution_count": 89,
   "metadata": {},
   "outputs": [
    {
     "data": {
      "text/plain": [
       "array([[624,  46],\n",
       "       [  0, 670]])"
      ]
     },
     "execution_count": 89,
     "metadata": {},
     "output_type": "execute_result"
    }
   ],
   "source": [
    "#confusion matrix\n",
    "pred = gnb.predict(train_df2)\n",
    "\n",
    "pred\n",
    "\n",
    "cm = confusion_matrix(y_train, pred)\n",
    "\n",
    "cm"
   ]
  },
  {
   "cell_type": "markdown",
   "metadata": {},
   "source": [
    "### .5) Decision Tree Classifier w TFIDF Vectorizer"
   ]
  },
  {
   "cell_type": "code",
   "execution_count": 90,
   "metadata": {},
   "outputs": [
    {
     "name": "stdout",
     "output_type": "stream",
     "text": [
      "best score:  0.7171641791044776\n",
      "training score: 0.8432835820895522\n",
      "testing score: 0.6878787878787879\n"
     ]
    }
   ],
   "source": [
    "# Import model.\n",
    "from sklearn.tree import DecisionTreeClassifier\n",
    "\n",
    "#instantiating pipeline\n",
    "pipe3 = Pipeline(\n",
    "    [\n",
    "        ('tfidf', TfidfVectorizer(stop_words='english')),\n",
    "        ('dt', DecisionTreeClassifier())\n",
    "    ]\n",
    ")\n",
    "\n",
    "# Search over the following values of hyperparameters:\n",
    "# Maximum number of features fit: 50\n",
    "# Minimum number of documents needed to include token: 10\n",
    "# Maximum number of documents needed to include token: 90%, 95%\n",
    "# Check (individual tokens) and also check (individual tokens and 2-grams).\n",
    "\n",
    "pipe3_params = {\n",
    "    'tfidf__max_features': [1000],\n",
    "    'tfidf__min_df': [10],\n",
    "    'tfidf__max_df': [.15, .95],\n",
    "    'tfidf__ngram_range': [(1,1), (1,2)]\n",
    "}\n",
    "\n",
    "gs3 = GridSearchCV(pipe3, # what object are we optimizing?\n",
    "                  pipe3_params, # what parameters values are we searching?\n",
    "                  cv = 5) # 5-fold cross-validation.\n",
    "\n",
    "gs3.fit(X_train, y_train)\n",
    "\n",
    "# What's the best score?\n",
    "print(\"best score: \",gs3.best_score_)\n",
    "\n",
    "gs3.best_params_\n",
    "\n",
    "gs3_model = gs3.best_estimator_\n",
    "gs3_model\n",
    "\n",
    "# Score model on training set.\n",
    "print(\"training score:\",gs3_model.score(X_train, y_train))\n",
    "\n",
    "# Score model on testing set.\n",
    "print(\"testing score:\",gs3_model.score(X_test, y_test))"
   ]
  },
  {
   "cell_type": "markdown",
   "metadata": {},
   "source": [
    "### Evaluation"
   ]
  },
  {
   "cell_type": "markdown",
   "metadata": {},
   "source": [
    "The Multinomial Naive Bayes model performed the best.I played around with parameters in this one and the setting alpha to 0.5 produced a slightly higher school. The best parameters being — alpha=0 and fit_prior being set True or False didnt make much of a difference .\n",
    "\n",
    "Next was the logistic regression model with TFIDF Vectorizer. I used Pipeline and GridSearch to run several models and confirm which one would be best.  The accuracy score was 97% on training data and 82% on the test data. This means our model is overfit by quite a lot but I believe this can possibly be adjusted by tweaking the parameters or fitting a pipeline and gridsearch. This also means that 82% of our posts will be accurately classified by our model.\n",
    "\n",
    "Decision Tree Classifier w TFIDF Vectorizer was quite unremarkable with a low accuracy score(see above for more info)."
   ]
  },
  {
   "cell_type": "markdown",
   "metadata": {},
   "source": [
    "### Conclusions & Next steps"
   ]
  },
  {
   "cell_type": "markdown",
   "metadata": {},
   "source": [
    "The Multinomial Naive Bayes model was the most outstanding. I would definitely use it as the one to classify my reddit post. However, if given more time and data to answer the problem I would recommend the following: 1)spending more time feature engineering, 2)exploring new features (e.g. upvotes or post comments),3)Using a larger dataset (is this corpus sufficient?), 4)Try Multinomial Naive Bayes model to classify other gaming subreddits. "
   ]
  },
  {
   "cell_type": "code",
   "execution_count": null,
   "metadata": {},
   "outputs": [],
   "source": []
  }
 ],
 "metadata": {
  "kernelspec": {
   "display_name": "Python 3",
   "language": "python",
   "name": "python3"
  },
  "language_info": {
   "codemirror_mode": {
    "name": "ipython",
    "version": 3
   },
   "file_extension": ".py",
   "mimetype": "text/x-python",
   "name": "python",
   "nbconvert_exporter": "python",
   "pygments_lexer": "ipython3",
   "version": "3.7.4"
  }
 },
 "nbformat": 4,
 "nbformat_minor": 2
}
